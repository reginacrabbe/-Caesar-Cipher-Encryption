{
 "cells": [
  {
   "cell_type": "code",
   "execution_count": 1,
   "id": "dc703f71",
   "metadata": {},
   "outputs": [
    {
     "name": "stdout",
     "output_type": "stream",
     "text": [
      "Enter the plaintext you want to encrypt: THE QUICK BROWN FOX JUMPS OVER THE LAZY DOG\n",
      "Enter the key value: 3\n",
      "QEB NRFZH YOLTK CLU GRJMP LSBO QEB IXWV ALD\n"
     ]
    }
   ],
   "source": [
    "# define parameters\n",
    "def caesar_cipher_encrypt(plaintext, key, encrypt=True):\n",
    "    \"\"\"\n",
    "    Encrypts the plaintext using the Caesar Cipher encryption technique.\n",
    "    :plaintext: The message to be encrypted\n",
    "    :key: The number of positions to shift the letters\n",
    "    :encrypt: If True, encrypts the message using the key \n",
    "    \"\"\"\n",
    " \n",
    "    encrypted_text = \"\"\n",
    "    plaintext = plaintext.upper()\n",
    "    # Loops through each character in the plaintext\n",
    "    for char in plaintext:\n",
    "        if char.isalpha():  # If the character is a letter, shift it by the key positions\n",
    "      # If encrypt is True, shift the character left by the key positions\n",
    "            if encrypt == True:\n",
    "             # Encryption formula: shift = (char + shift) % 26\n",
    "                encrypted_text += chr((ord(char) - 65 - key) % 26 + 65)\n",
    "            else:\n",
    "             # Decryption formula: shift = (char - shift) % 26\n",
    "                encrypted_text += chr((ord(char) - 65 + key) % 26 + 65)\n",
    "        else:\n",
    "           # If the character is not an alphabetic letter, keep it as it is\n",
    "            encrypted_text += char\n",
    "    return encrypted_text  # Returns the encrypted message\n",
    "\n",
    "# Plaintext to encrypt\n",
    "plaintext = input(\"Enter the plaintext you want to encrypt: \")\n",
    "\n",
    "# Define the key value\n",
    "key = int(input(\"Enter the key value: \"))\n",
    "\n",
    "# Encrypt the plaintext using the caesar_cipher function\n",
    "encrypted_text = caesar_cipher_encrypt(plaintext, key, encrypt=True)\n",
    "\n",
    "print(encrypted_text) \n"
   ]
  },
  {
   "cell_type": "code",
   "execution_count": null,
   "id": "8e793b19",
   "metadata": {},
   "outputs": [],
   "source": []
  },
  {
   "cell_type": "code",
   "execution_count": null,
   "id": "8ffde7dc",
   "metadata": {},
   "outputs": [],
   "source": []
  }
 ],
 "metadata": {
  "kernelspec": {
   "display_name": "Python 3 (ipykernel)",
   "language": "python",
   "name": "python3"
  },
  "language_info": {
   "codemirror_mode": {
    "name": "ipython",
    "version": 3
   },
   "file_extension": ".py",
   "mimetype": "text/x-python",
   "name": "python",
   "nbconvert_exporter": "python",
   "pygments_lexer": "ipython3",
   "version": "3.11.3"
  }
 },
 "nbformat": 4,
 "nbformat_minor": 5
}
